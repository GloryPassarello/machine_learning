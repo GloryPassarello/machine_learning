{
 "cells": [
  {
   "cell_type": "markdown",
   "metadata": {},
   "source": [
    "### Method range()\n",
    "\n",
    "\n",
    "range() function does not support *floating* values \n",
    "\n",
    "`range(start, stop, step)`\n",
    "\n",
    "Where: \n",
    "\n",
    "* `start` integer number specifying at which position to start. Default is 0 \n",
    "* `stop`  integer number specifying at which position to end\n",
    "* `step`  integer number specifying the incrementation. Default is 1 \n"
   ]
  },
  {
   "cell_type": "code",
   "execution_count": 4,
   "metadata": {},
   "outputs": [
    {
     "data": {
      "text/plain": [
       "range(0, 10)"
      ]
     },
     "execution_count": 4,
     "metadata": {},
     "output_type": "execute_result"
    }
   ],
   "source": [
    "range(10)"
   ]
  },
  {
   "cell_type": "code",
   "execution_count": 7,
   "metadata": {},
   "outputs": [
    {
     "name": "stdout",
     "output_type": "stream",
     "text": [
      "2\n",
      "5\n",
      "8\n"
     ]
    }
   ],
   "source": [
    "for i in range(2, 10, 3):\n",
    "    print(i)"
   ]
  },
  {
   "cell_type": "markdown",
   "metadata": {},
   "source": [
    "## range() vs xrange()\n",
    "\n",
    "\n",
    "This difference is present only on **Python2**. \n",
    "\n",
    "* `range()` return a list \n",
    "* `xrange()` return an iterator\n",
    "\n",
    "\n",
    "Original `range()` function was deprecated in Python 3.x.\n",
    "\n",
    "\n",
    "On Python3 `range()` has its own object type which is range. \n",
    "it cannot be used purely as a list: it cannot be splitted \n",
    "\n",
    "\n",
    "BTW Python 3.x, you can still produce a list by passing the generator returned to the `list()` function. "
   ]
  },
  {
   "cell_type": "code",
   "execution_count": 10,
   "metadata": {},
   "outputs": [
    {
     "data": {
      "text/plain": [
       "range"
      ]
     },
     "execution_count": 10,
     "metadata": {},
     "output_type": "execute_result"
    }
   ],
   "source": [
    "type(range(10))"
   ]
  },
  {
   "cell_type": "code",
   "execution_count": 11,
   "metadata": {},
   "outputs": [
    {
     "data": {
      "text/plain": [
       "[0, 1, 2]"
      ]
     },
     "execution_count": 11,
     "metadata": {},
     "output_type": "execute_result"
    }
   ],
   "source": [
    "list_of_ints = list(range(3))\n",
    "list_of_ints"
   ]
  },
  {
   "cell_type": "code",
   "execution_count": 18,
   "metadata": {},
   "outputs": [],
   "source": [
    "n = 4\n",
    "l = [1, 2, 3, 5, 8, 9, 8, 7, 15 ,52, 13]"
   ]
  },
  {
   "cell_type": "code",
   "execution_count": 20,
   "metadata": {},
   "outputs": [
    {
     "name": "stdout",
     "output_type": "stream",
     "text": [
      "0\n",
      "[1, 2, 3, 5]\n",
      "4\n",
      "[8, 9, 8, 7]\n",
      "8\n",
      "[15, 52, 13]\n"
     ]
    }
   ],
   "source": [
    "for i in range(0, len(l), n):\n",
    "    print(i) \n",
    "    print(l[i:i + n]) "
   ]
  },
  {
   "cell_type": "markdown",
   "metadata": {},
   "source": [
    "This divedes the list into sublist "
   ]
  },
  {
   "cell_type": "code",
   "execution_count": null,
   "metadata": {},
   "outputs": [],
   "source": []
  }
 ],
 "metadata": {
  "kernelspec": {
   "display_name": "Python 3",
   "language": "python",
   "name": "python3"
  },
  "language_info": {
   "codemirror_mode": {
    "name": "ipython",
    "version": 3
   },
   "file_extension": ".py",
   "mimetype": "text/x-python",
   "name": "python",
   "nbconvert_exporter": "python",
   "pygments_lexer": "ipython3",
   "version": "3.5.2"
  }
 },
 "nbformat": 4,
 "nbformat_minor": 2
}
