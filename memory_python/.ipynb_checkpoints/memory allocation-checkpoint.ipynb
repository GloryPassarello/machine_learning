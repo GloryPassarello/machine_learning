{
 "cells": [
  {
   "cell_type": "markdown",
   "metadata": {},
   "source": [
    "### Memory in python "
   ]
  },
  {
   "cell_type": "code",
   "execution_count": 1,
   "metadata": {},
   "outputs": [],
   "source": [
    "import sys\n",
    "import gc # garbage collector"
   ]
  },
  {
   "cell_type": "code",
   "execution_count": 2,
   "metadata": {},
   "outputs": [],
   "source": [
    "a = \"I am a variable\""
   ]
  },
  {
   "cell_type": "code",
   "execution_count": 3,
   "metadata": {},
   "outputs": [
    {
     "data": {
      "text/plain": [
       "2"
      ]
     },
     "execution_count": 3,
     "metadata": {},
     "output_type": "execute_result"
    }
   ],
   "source": [
    "sys.getrefcount(a)"
   ]
  },
  {
   "cell_type": "code",
   "execution_count": 4,
   "metadata": {},
   "outputs": [
    {
     "data": {
      "text/plain": [
       "1"
      ]
     },
     "execution_count": 4,
     "metadata": {},
     "output_type": "execute_result"
    }
   ],
   "source": [
    "len(gc.get_referrers(a)) # it returns the lengh of the dictionary"
   ]
  },
  {
   "cell_type": "code",
   "execution_count": 5,
   "metadata": {},
   "outputs": [
    {
     "data": {
      "text/plain": [
       "[{'In': ['',\n",
       "   'import sys\\nimport gc # garbage collector',\n",
       "   'a = \"I am a variable\"',\n",
       "   'sys.getrefcount(a)',\n",
       "   'len(gc.get_referrers(a)) # it returns the lengh of the dictionary',\n",
       "   'gc.get_referrers(a)'],\n",
       "  'Out': {3: 2, 4: 1},\n",
       "  '_': 1,\n",
       "  '_3': 2,\n",
       "  '_4': 1,\n",
       "  '__': 2,\n",
       "  '___': '',\n",
       "  '__builtin__': <module 'builtins' (built-in)>,\n",
       "  '__builtins__': <module 'builtins' (built-in)>,\n",
       "  '__doc__': 'Automatically created module for IPython interactive environment',\n",
       "  '__loader__': None,\n",
       "  '__name__': '__main__',\n",
       "  '__package__': None,\n",
       "  '__spec__': None,\n",
       "  '_dh': ['/home/gloria/machine_learning/memory_python'],\n",
       "  '_i': 'len(gc.get_referrers(a)) # it returns the lengh of the dictionary',\n",
       "  '_i1': 'import sys\\nimport gc # garbage collector',\n",
       "  '_i2': 'a = \"I am a variable\"',\n",
       "  '_i3': 'sys.getrefcount(a)',\n",
       "  '_i4': 'len(gc.get_referrers(a)) # it returns the lengh of the dictionary',\n",
       "  '_i5': 'gc.get_referrers(a)',\n",
       "  '_ih': ['',\n",
       "   'import sys\\nimport gc # garbage collector',\n",
       "   'a = \"I am a variable\"',\n",
       "   'sys.getrefcount(a)',\n",
       "   'len(gc.get_referrers(a)) # it returns the lengh of the dictionary',\n",
       "   'gc.get_referrers(a)'],\n",
       "  '_ii': 'sys.getrefcount(a)',\n",
       "  '_iii': 'a = \"I am a variable\"',\n",
       "  '_oh': {3: 2, 4: 1},\n",
       "  'a': 'I am a variable',\n",
       "  'exit': <IPython.core.autocall.ZMQExitAutocall at 0x7f84ababfe10>,\n",
       "  'gc': <module 'gc' (built-in)>,\n",
       "  'get_ipython': <bound method InteractiveShell.get_ipython of <ipykernel.zmqshell.ZMQInteractiveShell object at 0x7f84abaef4e0>>,\n",
       "  'quit': <IPython.core.autocall.ZMQExitAutocall at 0x7f84ababfe10>,\n",
       "  'sys': <module 'sys' (built-in)>}]"
      ]
     },
     "execution_count": 5,
     "metadata": {},
     "output_type": "execute_result"
    }
   ],
   "source": [
    "gc.get_referrers(a)"
   ]
  },
  {
   "cell_type": "code",
   "execution_count": 6,
   "metadata": {},
   "outputs": [],
   "source": [
    "b= \"I am a variable\""
   ]
  },
  {
   "cell_type": "code",
   "execution_count": 7,
   "metadata": {},
   "outputs": [
    {
     "data": {
      "text/plain": [
       "1"
      ]
     },
     "execution_count": 7,
     "metadata": {},
     "output_type": "execute_result"
    }
   ],
   "source": [
    "len(gc.get_referrers(a))"
   ]
  },
  {
   "cell_type": "code",
   "execution_count": 8,
   "metadata": {},
   "outputs": [
    {
     "data": {
      "text/plain": [
       "1"
      ]
     },
     "execution_count": 8,
     "metadata": {},
     "output_type": "execute_result"
    }
   ],
   "source": [
    "len(gc.get_referrers(b))"
   ]
  },
  {
   "cell_type": "code",
   "execution_count": 9,
   "metadata": {},
   "outputs": [
    {
     "data": {
      "text/plain": [
       "1"
      ]
     },
     "execution_count": 9,
     "metadata": {},
     "output_type": "execute_result"
    }
   ],
   "source": [
    "len(gc.get_referrers(\"I am a variable\"))"
   ]
  },
  {
   "cell_type": "code",
   "execution_count": 10,
   "metadata": {},
   "outputs": [
    {
     "data": {
      "text/plain": [
       "3"
      ]
     },
     "execution_count": 10,
     "metadata": {},
     "output_type": "execute_result"
    }
   ],
   "source": [
    "sys.getrefcount(\"I am a variable\")"
   ]
  },
  {
   "cell_type": "code",
   "execution_count": 11,
   "metadata": {},
   "outputs": [
    {
     "data": {
      "text/plain": [
       "2"
      ]
     },
     "execution_count": 11,
     "metadata": {},
     "output_type": "execute_result"
    }
   ],
   "source": [
    "sys.getrefcount(b)"
   ]
  },
  {
   "cell_type": "markdown",
   "metadata": {},
   "source": [
    "### To know the threshold that says to garbage collector to runs. \n",
    "\n",
    "GC reallocates memory when: \n",
    "numberes of allocation - number of deallocation = thresholding"
   ]
  },
  {
   "cell_type": "code",
   "execution_count": 13,
   "metadata": {},
   "outputs": [
    {
     "data": {
      "text/plain": [
       "(700, 10, 10)"
      ]
     },
     "execution_count": 13,
     "metadata": {},
     "output_type": "execute_result"
    }
   ],
   "source": [
    "gc.get_threshold()"
   ]
  },
  {
   "cell_type": "markdown",
   "metadata": {},
   "source": [
    "On the system the *threshold* is 700"
   ]
  },
  {
   "cell_type": "code",
   "execution_count": null,
   "metadata": {},
   "outputs": [],
   "source": []
  }
 ],
 "metadata": {
  "kernelspec": {
   "display_name": "Python 3",
   "language": "python",
   "name": "python3"
  },
  "language_info": {
   "codemirror_mode": {
    "name": "ipython",
    "version": 3
   },
   "file_extension": ".py",
   "mimetype": "text/x-python",
   "name": "python",
   "nbconvert_exporter": "python",
   "pygments_lexer": "ipython3",
   "version": "3.5.2"
  }
 },
 "nbformat": 4,
 "nbformat_minor": 2
}
