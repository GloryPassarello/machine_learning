{
 "cells": [
  {
   "cell_type": "markdown",
   "metadata": {},
   "source": [
    "## Fiona \n",
    "\n",
    "**Fiona** reads features as dictionaries \n",
    "\n",
    "1) you define a new field schema['properties']['pi'] = 'float'\n",
    "\n",
    "2) this field must be in in the properties of every elements\n"
   ]
  },
  {
   "cell_type": "code",
   "execution_count": 1,
   "metadata": {
    "scrolled": true
   },
   "outputs": [],
   "source": [
    "import fiona"
   ]
  },
  {
   "cell_type": "markdown",
   "metadata": {},
   "source": [
    "## schema in Fiona\n",
    "\n",
    "`schema` gives back geometries and proprieties items\n",
    "\n",
    "\n",
    "To write shape files fiona uses **shapely**.\n"
   ]
  },
  {
   "cell_type": "code",
   "execution_count": 6,
   "metadata": {},
   "outputs": [],
   "source": [
    " from shapely.geometry import mapping, shape "
   ]
  },
  {
   "cell_type": "markdown",
   "metadata": {},
   "source": [
    "### SHAPELY \n",
    "\n",
    "From documentation: \n",
    "\n",
    "\"_Shapely is a Python package for set-theoretic analysis and manipulation of planar features using (via Python’s ctypes module) functions from the well known and widely deployed GEOS library. **GEOS**, a port of the Java Topology Suite (JTS), is the geometry engine of the **PostGIS** spatial extension for the **PostgreSQL RDBMS**. The designs of JTS and GEOS are largely guided by the Open Geospatial Consortium’s Simple Features Access Specification and Shapely adheres mainly to the same set of standard classes and operations. Shapely is thereby deeply rooted in the conventions of the geographic information systems (GIS) world, but aspires to be equally useful to programmers working on non-conventional problems._\"\n",
    "\n",
    "\n",
    "\n",
    "\"Shapely uses the GEOS library for all operations. GEOS is written in C++ and used in many applications and you can expect that all operations are highly optimized. The creation of new geometries with many coordinates, however, involves some overhead that might slow down your code.\"\n",
    "\n",
    "\n",
    "**shapely** provides:\n",
    "* `shape()` function that makes Shapely geometries from objects that provide `__geo_interface__` \n",
    "* `mapping()` function that writes geometries out as dictionaries"
   ]
  },
  {
   "cell_type": "code",
   "execution_count": 7,
   "metadata": {},
   "outputs": [
    {
     "name": "stdout",
     "output_type": "stream",
     "text": [
      "{'properties': OrderedDict([('index', 'float:24.15'), ('obj', 'float:24.15'), ('gid_id', 'float:24.15'), ('version', 'float:24.15'), ('level', 'str:80'), ('nomenclatu', 'str:80'), ('tunit code', 'str:80'), ('tunit name', 'str:80'), ('gid_pk', 'float:24.15'), ('Id', 'float:24.15'), ('gridcode', 'float:24.15')]), 'geometry': 'Polygon'}\n",
      "{'init': 'epsg:3035'}\n"
     ]
    }
   ],
   "source": [
    "input_file = '/home/gloria/test_data/transitional_geom.shp'\n",
    "with fiona.open(input_file, 'r') as input:\n",
    "    schema = input.schema.copy() ## we are taking the schema of the shape file \n",
    "    print(schema)\n",
    "    input_crs = input.crs\n",
    "    print(input_crs)\n",
    "    schema['properties']['pi'] = 'float'  ## we are declaring a new field \n",
    "    \n",
    "    with fiona.open('tc_pi.shp', 'w', 'ESRI Shapefile', schema, input_crs) as output:\n",
    "         for elem in input:\n",
    "              elem['properties']['pi']= 1\n",
    "              output.write({'properties':elem['properties'],'geometry': mapping(shape(elem['geometry']))})"
   ]
  },
  {
   "cell_type": "code",
   "execution_count": null,
   "metadata": {},
   "outputs": [],
   "source": []
  }
 ],
 "metadata": {
  "kernelspec": {
   "display_name": "Python 3",
   "language": "python",
   "name": "python3"
  },
  "language_info": {
   "codemirror_mode": {
    "name": "ipython",
    "version": 3
   },
   "file_extension": ".py",
   "mimetype": "text/x-python",
   "name": "python",
   "nbconvert_exporter": "python",
   "pygments_lexer": "ipython3",
   "version": "3.6.7"
  }
 },
 "nbformat": 4,
 "nbformat_minor": 2
}
